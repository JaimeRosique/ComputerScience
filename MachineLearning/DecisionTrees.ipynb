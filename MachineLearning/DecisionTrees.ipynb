{
  "cells": [
    {
      "cell_type": "markdown",
      "metadata": {
        "id": "view-in-github",
        "colab_type": "text"
      },
      "source": [
        "<a href=\"https://colab.research.google.com/github/JaimeRosique/ComputerScience/blob/main/DecisionTrees.ipynb\" target=\"_parent\"><img src=\"https://colab.research.google.com/assets/colab-badge.svg\" alt=\"Open In Colab\"/></a>"
      ]
    },
    {
      "cell_type": "markdown",
      "metadata": {
        "id": "hPzAoj7JpWys"
      },
      "source": [
        "## Práctica 2 - sesión 1\n",
        "\n",
        "El objetivo de esta práctica el empleo de árboles de decisión en diferentes tareas de clasificación. Desde tareás muy sencillas como iris, hasta más complejas como digits y olivetti faces.\n"
      ]
    },
    {
      "cell_type": "markdown",
      "metadata": {
        "id": "fFDOkvJspWyv"
      },
      "source": [
        "### Arboles de decisión con Iris data-set\n",
        "\n",
        "Empecemos con Iris y exploremos algunos parámetros del clasificador basado en árboles de decisión. Algunos de los parámetros más importnates son:\n",
        "\n",
        "* max_depth\n",
        "* min_samples_split\n",
        "\n",
        "Aquí descritos : [DecisionTrees](https://scikit-learn.org/stable/modules/generated/sklearn.tree.DecisionTreeClassifier.html)\n",
        "\n"
      ]
    },
    {
      "cell_type": "code",
      "execution_count": null,
      "metadata": {
        "colab": {
          "base_uri": "https://localhost:8080/"
        },
        "id": "Q4A_C2fQpWyx",
        "outputId": "cac33239-eb9d-496e-e7e3-e57fdb377600"
      },
      "outputs": [
        {
          "name": "stdout",
          "output_type": "stream",
          "text": [
            "Precisión: 93.3%\n"
          ]
        }
      ],
      "source": [
        "from sklearn.datasets import load_iris\n",
        "from sklearn.model_selection import train_test_split, GridSearchCV\n",
        "from sklearn.tree import DecisionTreeClassifier\n",
        "\n",
        "X, y = load_iris(return_X_y=True)\n",
        "X_train, X_test, y_train, y_test = train_test_split(X, y, test_size=0.2, shuffle=True, random_state=23)\n",
        "\n",
        "\n",
        "dt = DecisionTreeClassifier(max_depth=3, min_samples_split=2, random_state=23)\n",
        "\n",
        "acc=dt.fit(X_train, y_train).score(X_test, y_test)\n",
        "print(f'Precisión: {acc:.1%}')"
      ]
    },
    {
      "cell_type": "markdown",
      "metadata": {
        "id": "1NkwHn_upWyy"
      },
      "source": [
        "**Ejercicio**: Realiza una búsqueda de los mejores parámetros empleando GridSearch"
      ]
    },
    {
      "cell_type": "code",
      "execution_count": null,
      "metadata": {
        "colab": {
          "base_uri": "https://localhost:8080/"
        },
        "id": "JudBx7S1qcZP",
        "outputId": "a428e1ee-5858-41cd-e72f-6eb2bf2fe512"
      },
      "outputs": [
        {
          "name": "stdout",
          "output_type": "stream",
          "text": [
            "Precisión: 93.3% con Mejores parametros:{'max_depth': 3, 'min_samples_split': 2}\n"
          ]
        }
      ],
      "source": [
        "from sklearn.datasets import load_iris\n",
        "from sklearn.model_selection import train_test_split, GridSearchCV\n",
        "from sklearn.tree import DecisionTreeClassifier\n",
        "\n",
        "# Carga el conjunto de datos\n",
        "X, y = load_iris(return_X_y=True)\n",
        "# Divide los datos en conjuntos de entrenamiento y prueba\n",
        "X_train, X_test, y_train, y_test = train_test_split(X, y, test_size=0.2, shuffle=True, random_state=23)\n",
        "\n",
        "# Crea el clasificador de árbol de decisión\n",
        "dt = DecisionTreeClassifier(random_state=23)\n",
        "\n",
        "# Define el diccionario de parámetros que deseas explorar\n",
        "param_grid = {\n",
        "    'max_depth': [3, 5, 7,20],\n",
        "    'min_samples_split': [2, 5, 10,20]\n",
        "}\n",
        "\n",
        "GS = GridSearchCV(estimator=dt, param_grid=param_grid, scoring='accuracy', refit=True, cv=5)\n",
        "\n",
        "acc=GS.fit(X_train, y_train).score(X_test, y_test)\n",
        "print(f'Precisión: {acc:.1%} con Mejores parametros:{GS.best_params_}')"
      ]
    },
    {
      "cell_type": "markdown",
      "metadata": {
        "id": "U-7fo0qOpWyz"
      },
      "source": [
        "**Ejercicio**: Aplica árboles de decisión a el dataset digits. Prueba a realizar alguna expansión polinómica de las características y PCA. Emplea GridSearch para estimar los mejores parámetros."
      ]
    },
    {
      "cell_type": "code",
      "execution_count": null,
      "metadata": {
        "colab": {
          "base_uri": "https://localhost:8080/"
        },
        "id": "qBITIPjis0Nh",
        "outputId": "351ee5e9-ba47-4372-da99-a0e0783c621f"
      },
      "outputs": [
        {
          "name": "stdout",
          "output_type": "stream",
          "text": [
            "Precisión: 87.8% con Mejores parametros:{'dt__max_depth': 20, 'dt__min_samples_split': 2, 'pca__n_components': 10}\n"
          ]
        }
      ],
      "source": [
        "import warnings; warnings.filterwarnings('ignore');\n",
        "from sklearn.datasets import load_digits\n",
        "from sklearn.model_selection import train_test_split, GridSearchCV\n",
        "from sklearn.tree import DecisionTreeClassifier\n",
        "from sklearn.decomposition import PCA\n",
        "from sklearn.preprocessing import PolynomialFeatures\n",
        "from sklearn.pipeline import Pipeline\n",
        "\n",
        "# Carga el conjunto de datos\n",
        "X, y = load_digits(return_X_y=True)\n",
        "# Divide los datos en conjuntos de entrenamiento y prueba\n",
        "X_train, X_test, y_train, y_test = train_test_split(X, y, test_size=0.2, shuffle=True, stratify=y, random_state=23)\n",
        "\n",
        "# Crea el clasificador de árbol de decisión\n",
        "dt = DecisionTreeClassifier(random_state=23)\n",
        "#Crea expansión polinómica\n",
        "poly = PolynomialFeatures()\n",
        "#Crea PCA\n",
        "pca = PCA()\n",
        "\n",
        "pipe = Pipeline(steps=[(\"pca\", pca),(\"dt\",dt)])\n",
        "\n",
        "# Define el diccionario de parámetros que deseas explorar\n",
        "G = {\"pca__n_components\": [10,16,32, 64],\n",
        "     \"dt__max_depth\": [3, 5, 7,20],\n",
        "     \"dt__min_samples_split\": [2, 5, 10]}\n",
        "\n",
        "GS = GridSearchCV(estimator=pipe, param_grid=G, scoring='accuracy', refit=True, cv=5)\n",
        "\n",
        "acc=GS.fit(X_train, y_train).score(X_test, y_test)\n",
        "print(f'Precisión: {acc:.1%} con Mejores parametros:{GS.best_params_}')"
      ]
    },
    {
      "cell_type": "markdown",
      "metadata": {
        "id": "_Dcy5N0MpWyz"
      },
      "source": [
        "**Ejercicio**: Aplica árboles de decisión a el dataset olivetti faces. Prueba a realizar alguna expansión polinómica de las características y PCA. Emplea GridSearch para estimar los mejores parámetros."
      ]
    },
    {
      "cell_type": "code",
      "execution_count": null,
      "metadata": {
        "colab": {
          "base_uri": "https://localhost:8080/"
        },
        "id": "JcY0gSNOINBp",
        "outputId": "7a06295e-d034-4a4f-bd27-5eaf75899752"
      },
      "outputs": [
        {
          "metadata": {
            "tags": null
          },
          "name": "stdout",
          "output_type": "stream",
          "text": [
            "downloading Olivetti faces from https://ndownloader.figshare.com/files/5976027 to /root/scikit_learn_data\n"
          ]
        }
      ],
      "source": [
        "import warnings; warnings.filterwarnings('ignore');\n",
        "from sklearn.datasets import fetch_olivetti_faces\n",
        "from sklearn.model_selection import train_test_split, GridSearchCV\n",
        "from sklearn.tree import DecisionTreeClassifier\n",
        "from sklearn.decomposition import PCA\n",
        "from sklearn.preprocessing import PolynomialFeatures\n",
        "from sklearn.pipeline import Pipeline\n",
        "\n",
        "# Carga el conjunto de datos\n",
        "X, y = fetch_olivetti_faces(return_X_y=True)\n",
        "# Divide los datos en conjuntos de entrenamiento y prueba\n",
        "X_train, X_test, y_train, y_test = train_test_split(X, y, test_size=0.2, shuffle=True, stratify=y, random_state=23)\n",
        "\n",
        "# Crea el clasificador de árbol de decisión\n",
        "dt = DecisionTreeClassifier(random_state=23)\n",
        "#Crea expansión polinómica\n",
        "poly = PolynomialFeatures()\n",
        "#Crea PCA\n",
        "pca = PCA()\n",
        "\n",
        "pipe = Pipeline(steps=[(\"pca\", pca), (\"poly\", poly),(\"dt\",dt)])\n",
        "\n",
        "# Define el diccionario de parámetros que deseas explorar\n",
        "G = {\"pca__n_components\": [10,16,28,32, 64],\n",
        "     \"poly__degree\":[2,4,8,10],\n",
        "     \"dt__max_depth\": [3, 5, 7,20,50],\n",
        "     \"dt__min_samples_split\": [2, 5, 10]}\n",
        "\n",
        "GS = GridSearchCV(estimator=pipe, param_grid=G, scoring='accuracy', refit=True, cv=5)\n",
        "\n",
        "acc=GS.fit(X_train, y_train).score(X_test, y_test)\n",
        "print(f'Precisión: {acc:.1%} con Mejores parametros:{GS.best_params_}')"
      ]
    }
  ],
  "metadata": {
    "colab": {
      "provenance": [],
      "include_colab_link": true
    },
    "kernelspec": {
      "display_name": "Python 3.7.3 64-bit",
      "language": "python",
      "name": "python3"
    },
    "language_info": {
      "codemirror_mode": {
        "name": "ipython",
        "version": 3
      },
      "file_extension": ".py",
      "mimetype": "text/x-python",
      "name": "python",
      "nbconvert_exporter": "python",
      "pygments_lexer": "ipython3",
      "version": "3.10.12"
    },
    "vscode": {
      "interpreter": {
        "hash": "31f2aee4e71d21fbe5cf8b01ff0e069b9275f58929596ceb00d14d90e3e16cd6"
      }
    }
  },
  "nbformat": 4,
  "nbformat_minor": 0
}
